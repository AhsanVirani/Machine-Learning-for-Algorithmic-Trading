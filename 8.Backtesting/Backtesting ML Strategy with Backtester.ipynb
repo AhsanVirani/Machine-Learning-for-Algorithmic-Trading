{
 "cells": [
  {
   "cell_type": "markdown",
   "metadata": {},
   "source": [
    "## Backtesting an ML strategy with Backtester"
   ]
  },
  {
   "cell_type": "code",
   "execution_count": 1,
   "metadata": {},
   "outputs": [],
   "source": [
    "import warnings\n",
    "warnings.filterwarnings('ignore')"
   ]
  },
  {
   "cell_type": "code",
   "execution_count": 2,
   "metadata": {},
   "outputs": [],
   "source": [
    "%matplotlib inline\n",
    "\n",
    "from pathlib import Path\n",
    "import csv\n",
    "from time import time\n",
    "import datetime\n",
    "import numpy as np\n",
    "import pandas as pd\n",
    "import pandas_datareader.data as web\n",
    "import matplotlib.pyplot as plt\n",
    "import seaborn as sns\n",
    "\n",
    "import backtrader as bt\n",
    "from backtrader.feeds import PandasData\n",
    "\n",
    "import pyfolio as pf"
   ]
  },
  {
   "cell_type": "code",
   "execution_count": 3,
   "metadata": {},
   "outputs": [],
   "source": [
    "pd.set_option('display.expand_frame_repr', False)\n",
    "np.random.seed(42)\n",
    "sns.set_style('darkgrid')"
   ]
  },
  {
   "cell_type": "code",
   "execution_count": 4,
   "metadata": {},
   "outputs": [],
   "source": [
    "def format_time(t):\n",
    "    m_, s = divmod(t, 60)\n",
    "    h, m = divmod(m_, 60)\n",
    "    return f'{h:>02.0f}:{m:>02.0f}:{s:>02.0f}'"
   ]
  },
  {
   "cell_type": "markdown",
   "metadata": {},
   "source": [
    "### Backtrader Setup"
   ]
  },
  {
   "cell_type": "markdown",
   "metadata": {},
   "source": [
    "Custom Commission Schema"
   ]
  },
  {
   "cell_type": "markdown",
   "metadata": {},
   "source": [
    "### DataFrame Loader"
   ]
  },
  {
   "cell_type": "code",
   "execution_count": 5,
   "metadata": {},
   "outputs": [],
   "source": [
    "OHLCV = ['open', 'high', 'low', 'close', 'volume']"
   ]
  },
  {
   "cell_type": "code",
   "execution_count": 6,
   "metadata": {},
   "outputs": [],
   "source": [
    "class SignalData(PandasData):\n",
    "    \"\"\"\n",
    "    Defines pandas DataFrame structure\n",
    "    \"\"\"\n",
    "    cols = OHLCV + ['predicted']\n",
    "    \n",
    "    # create lines\n",
    "    lines = tuple(cols)\n",
    "    \n",
    "    # define parameters\n",
    "    params = {c: -1 for c in cols}\n",
    "    params.update({'datetime': None})\n",
    "    params = tuple(params.items())"
   ]
  },
  {
   "cell_type": "markdown",
   "metadata": {},
   "source": [
    "### Strategy"
   ]
  },
  {
   "cell_type": "code",
   "execution_count": 24,
   "metadata": {},
   "outputs": [],
   "source": [
    "class MLStrategy(bt.Strategy):\n",
    "    params = (('n_positions', 10),\n",
    "              ('min_positions', 5),\n",
    "              ('verbose', False),\n",
    "              ('log_file', 'backtest.csv'))\n",
    "    \n",
    "    def log(self, txt, dt=None):\n",
    "        \"\"\"Logger for the strategy\"\"\"\n",
    "        dt = dt or self.datas[0].datetime.datetime(0)\n",
    "        with Path(self.p.log_file).open('a') as f:\n",
    "            log_writer = csv.writer(f)\n",
    "            log_writer.writerow([dt.isoformat()] + txt.split(','))\n",
    "    \n",
    "    def notify_order(self, order):\n",
    "        if order.status in [order.Submitted, order.Accepted]:\n",
    "            return \n",
    "    \n",
    "        # Check if an order has been completed\n",
    "        # Broker could reject order if not enough cash\n",
    "        if self.p.verbose:\n",
    "            if order.status in [order.Completed]:\n",
    "                p = order.executed.price \n",
    "                if order.isbuy():\n",
    "                    self.log(f\"{order.data._name}, BUY executed, {p:.2f}\")\n",
    "                if order.issell():\n",
    "                    self.log(f\"{order.data._name}, SELL executed, {p:.2f}\")\n",
    "            elif order.status in [order.Canceled, order.Margin, order.Rejected]:\n",
    "                self.log(f\"{order.data._name}, Order Canceled/Margin/Rejected\")\n",
    "                    \n",
    "    def prenext(self):\n",
    "        self.next()\n",
    "        \n",
    "    def next(self):\n",
    "        today = self.datas[0].datetime.date()\n",
    "        print(self.datas[0])\n",
    "        print(self.getpositions())\n",
    "        positions = [d._name for d, pos in self.getpositions().items() if pos]\n",
    "        up, down = {}, {}\n",
    "        missing = not_missing = 0\n",
    "        for data in self.datas:\n",
    "            if data.datetime.date() == today:\n",
    "                if data.predicted[0] > 0:\n",
    "                    up[data._name] = data.predicted[0]\n",
    "                elif data.predicted[0] < 0:\n",
    "                    down[data._name] = data.predicted[0]\n",
    "        \n",
    "        # sort dictionaries ascending/descending by value\n",
    "        # returns list of tuples\n",
    "        shorts = sorted(down, key=down.get)[:self.p.n_positions]\n",
    "        longs = sorted(up, key=up.get, reverse=True)[:self.p.n_positions]\n",
    "        n_shorts, n_longs = len(shorts), len(longs)\n",
    "        \n",
    "        # only take positions if at least min_n longs and shorts\n",
    "        if n_shorts < self.p.min_positions or n_longs < self.p.min_positions:\n",
    "            longs, shorts = [], []\n",
    "    \n",
    "        for ticker in positions:\n",
    "            if ticker not in longs + shorts:\n",
    "                self.order_target_percent(data=ticker, target=0)\n",
    "                self.log(f'{ticker},CLOSING ORDER CREATED')   \n",
    "        \n",
    "        short_target = -1 / max(self.p.n_positions, n_shorts)\n",
    "        long_target = -1 / max(self.p.n_positions, n_longs)   \n",
    "        for ticker in shorts:\n",
    "            self.order_target_percent(data=ticker, target=short_target)\n",
    "            self.log('{ticker},SHORT ORDER CREATED')\n",
    "        for ticker in longs:\n",
    "            self.order_target_percent(data=ticker, target=long_target)\n",
    "            self.log('{ticker},LONG ORDER CREATED')"
   ]
  },
  {
   "cell_type": "markdown",
   "metadata": {},
   "source": [
    "### Create and Configure Cerebro Instance"
   ]
  },
  {
   "cell_type": "code",
   "execution_count": 25,
   "metadata": {},
   "outputs": [],
   "source": [
    "cerebro = bt.Cerebro()\n",
    "cash = 10000\n",
    "cerebro.broker.setcash(cash)"
   ]
  },
  {
   "cell_type": "code",
   "execution_count": 26,
   "metadata": {},
   "outputs": [],
   "source": [
    "### Add Input Data\n",
    "idx = pd.IndexSlice\n",
    "data = pd.read_hdf('00_data/backtest.h5', 'data').sort_index()\n",
    "tickers = data.index.get_level_values(0).unique()\n",
    "\n",
    "for ticker in tickers:\n",
    "    df = data.loc[idx[ticker, :], :].droplevel('ticker', axis=0)\n",
    "    df.index.name = 'datetime'\n",
    "    bt_data = SignalData(dataname=df)\n",
    "    cerebro.adddata(bt_data, name=ticker)"
   ]
  },
  {
   "cell_type": "markdown",
   "metadata": {},
   "source": [
    "### Run Strategy Backtest"
   ]
  },
  {
   "cell_type": "code",
   "execution_count": 27,
   "metadata": {},
   "outputs": [],
   "source": [
    "cerebro.addanalyzer(bt.analyzers.PyFolio, _name='pyfolio')\n",
    "cerebro.addstrategy(MLStrategy, n_positions=25, min_positions=20, verbose=True, log_file='bt_log.csv')\n",
    "\n",
    "start = time()\n",
    "results = cerebro.run()\n",
    "ending_value = cerebro.broker.get_value()\n",
    "duration = time() - start \n",
    "\n",
    "print(f'Final Portfolio Value: {ending_value:,.2f}')\n",
    "print(f'Duration: {format_time(duration)}')\n"
   ]
  },
  {
   "cell_type": "code",
   "execution_count": null,
   "metadata": {},
   "outputs": [],
   "source": []
  }
 ],
 "metadata": {
  "kernelspec": {
   "display_name": "Python 3.8.10 ('env': venv)",
   "language": "python",
   "name": "python3"
  },
  "language_info": {
   "codemirror_mode": {
    "name": "ipython",
    "version": 3
   },
   "file_extension": ".py",
   "mimetype": "text/x-python",
   "name": "python",
   "nbconvert_exporter": "python",
   "pygments_lexer": "ipython3",
   "version": "3.8.10"
  },
  "orig_nbformat": 4,
  "vscode": {
   "interpreter": {
    "hash": "2db0d48c4a07dc9c4e014c2c3e76266019fa8a470ddfae2110f17b0b24fd58bd"
   }
  }
 },
 "nbformat": 4,
 "nbformat_minor": 2
}
